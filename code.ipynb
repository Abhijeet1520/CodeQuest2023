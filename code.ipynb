{
 "cells": [
  {
   "cell_type": "code",
   "execution_count": 1,
   "metadata": {},
   "outputs": [
    {
     "data": {
      "text/plain": [
       "90.0"
      ]
     },
     "execution_count": 1,
     "metadata": {},
     "output_type": "execute_result"
    }
   ],
   "source": [
    "import math\n",
    "\n",
    "\n",
    "def get_angle(enemy_tank_pos, our_tank_pos):\n",
    "    dx = enemy_tank_pos[0] - our_tank_pos[0]\n",
    "    dy = enemy_tank_pos[1] - our_tank_pos[1]\n",
    "    return (math.degrees(math.atan2(dy, dx)) + 360) % 360\n",
    "\n",
    "enemy_tank_pos = (0,-100)\n",
    "our_tank_pos = (0,0)\n",
    "get_angle(enemy_tank_pos, our_tank_pos)\n",
    "\n"
   ]
  },
  {
   "cell_type": "code",
   "execution_count": 4,
   "metadata": {},
   "outputs": [
    {
     "name": "stdout",
     "output_type": "stream",
     "text": [
      "0.0\n",
      "180.0\n",
      "270.0\n",
      "90.0\n",
      "315.0\n",
      "45.0\n",
      "135.0\n",
      "225.0\n"
     ]
    }
   ],
   "source": [
    "# Define the positions\n",
    "right = (100, 0)\n",
    "left = (-100, 0)\n",
    "top = (0, 100)\n",
    "bottom = (0, -100)\n",
    "top_right = (100, 100)\n",
    "bottom_right = (100, -100)\n",
    "bottom_left = (-100, -100)\n",
    "top_left = (-100, 100)\n",
    "\n",
    "# Our tank's position\n",
    "our_tank_pos = (0, 0)\n",
    "\n",
    "# Test when enemy is to the right of our tank\n",
    "print(get_angle(right, our_tank_pos))  # Expected output: 0\n",
    "\n",
    "# Test when enemy is to the left of our tank\n",
    "print(get_angle(left, our_tank_pos))  # Expected output: 180\n",
    "\n",
    "# Test when enemy is above our tank\n",
    "print(get_angle(top, our_tank_pos))  # Expected output: 90\n",
    "\n",
    "# Test when enemy is below our tank\n",
    "print(get_angle(bottom, our_tank_pos))  # Expected output: 270\n",
    "\n",
    "# Test when enemy is to the top-right of our tank\n",
    "print(get_angle(top_right, our_tank_pos))  # Expected output: 45\n",
    "\n",
    "# Test when enemy is to the bottom-right of our tank\n",
    "print(get_angle(bottom_right, our_tank_pos))  # Expected output: 315\n",
    "\n",
    "# Test when enemy is to the bottom-left of our tank\n",
    "print(get_angle(bottom_left, our_tank_pos))  # Expected output: 225\n",
    "\n",
    "# Test when enemy is to the top-left of our tank\n",
    "print(get_angle(top_left, our_tank_pos))  # Expected output: 135"
   ]
  },
  {
   "cell_type": "code",
   "execution_count": null,
   "metadata": {},
   "outputs": [],
   "source": []
  }
 ],
 "metadata": {
  "kernelspec": {
   "display_name": "env",
   "language": "python",
   "name": "python3"
  },
  "language_info": {
   "codemirror_mode": {
    "name": "ipython",
    "version": 3
   },
   "file_extension": ".py",
   "mimetype": "text/x-python",
   "name": "python",
   "nbconvert_exporter": "python",
   "pygments_lexer": "ipython3",
   "version": "3.9.2"
  },
  "orig_nbformat": 4
 },
 "nbformat": 4,
 "nbformat_minor": 2
}
